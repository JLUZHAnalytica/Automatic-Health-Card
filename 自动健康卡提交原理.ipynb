{
 "metadata": {
  "language_info": {
   "codemirror_mode": {
    "name": "ipython",
    "version": 3
   },
   "file_extension": ".py",
   "mimetype": "text/x-python",
   "name": "python",
   "nbconvert_exporter": "python",
   "pygments_lexer": "ipython3",
   "version": "3.8.3-final"
  },
  "orig_nbformat": 2,
  "kernelspec": {
   "name": "python3",
   "display_name": "Python 3",
   "language": "python"
  }
 },
 "nbformat": 4,
 "nbformat_minor": 2,
 "cells": [
  {
   "cell_type": "markdown",
   "metadata": {},
   "source": [
    "# 吉珠自动健康卡填报"
   ]
  },
  {
   "cell_type": "markdown",
   "metadata": {},
   "source": [
    "## 用到的库\n",
    "\n",
    "不必了解每个库的具体用法，在下面的示范中尝试理解即可，有不懂的再去对应的文档里面查阅\n",
    "\n",
    "### requests\n",
    "### selenium\n",
    "\n",
    "用于模拟浏览器发送和接受请求\n",
    "\n",
    "官方文档：https://requests.readthedocs.io/en/master/user/quickstart/\n",
    "\n",
    "如何安装：\n",
    ">pip install requests\n",
    "\n",
    ">pip install selenium\n",
    "\n",
    "### json\n",
    "\n",
    "用于读取和创建json文件\n",
    "\n",
    "官方文档：https://docs.python.org/zh-cn/3/library/json.html\n",
    "\n",
    "如何安装：内置已有\n"
   ]
  },
  {
   "cell_type": "code",
   "execution_count": 1,
   "metadata": {},
   "outputs": [],
   "source": [
    "import requests\n",
    "import json"
   ]
  },
  {
   "cell_type": "markdown",
   "metadata": {},
   "source": [
    "## 关于身份验证\n",
    "\n",
    "只需要一个人的登陆 Cookie 就可以提交和查看任意人的健康卡\n",
    "\n",
    "如果 JSESSIONID 失效了需要手动在网站登陆一遍然后从Chrome开发者工具里找到：\n",
    "\n",
    "![image](img/WX20200808-140955@2x.png)\n",
    "\n",
    "**复制替换下方的 JSESSIONID 值即可。**"
   ]
  },
  {
   "cell_type": "code",
   "execution_count": 2,
   "metadata": {},
   "outputs": [],
   "source": [
    "JSESSIONID = \"DF74C430B19B50BA220ECF250598EEF9\"\n",
    "headers = {\n",
    "    \"x-requested-with\": \"XMLHttpRequest\",\n",
    "    \"user-agent\": \"Mozilla/5.0 (Macintosh; Intel Mac OS X 10_15_6) AppleWebKit/537.36 (KHTML, like Gecko) ,Chrome/84.0.4147.105 Safari/537.36\",\n",
    "    \"content-type\": \"text/json\",\n",
    "    \"origin\": \"https://work.jluzh.edu.cn\",\n",
    "    \"sec-fetch-site\": \"same-origin\",\n",
    "    \"sec-fetch-mode\": \"cors\",\n",
    "    \"sec-fetch-dest\": \"empty\",\n",
    "    \"referer\": \"https://work.jluzh.edu.cn/default/work/jlzh/jkxxtb/jkxxcj.jsp\",\n",
    "    \"accept-encoding\": \"gzip, deflate, br\",\n",
    "    \"accept-language\": \"zh-CN,zh;q=0.9,en-US;q=0.8,en;q=0.7\",\n",
    "    \"content-length\": \"896\",\n",
    "    \"cookie\": \"JSESSIONID=\" + JSESSIONID\n",
    "}"
   ]
  },
  {
   "cell_type": "code",
   "execution_count": 3,
   "metadata": {},
   "outputs": [],
   "source": [
    "# 写文件的辅助函数\n",
    "def output_to_file(filename, data):\n",
    "    with open(filename,'w') as fd:\n",
    "        fd.write(json.dumps(data,indent=4,ensure_ascii=False))"
   ]
  },
  {
   "cell_type": "markdown",
   "metadata": {},
   "source": [
    "## 查询填写记录\n",
    "\n",
    "**查询当天填写记录(only_today=Ture) ** 可以用于判断当天有没有提交，辅导员据此看谁没有填健康卡\n",
    "\n",
    "**查询历史提交记录(only_today=False) ** 顾名思义可以看到所有的提交记录"
   ]
  },
  {
   "cell_type": "code",
   "execution_count": 4,
   "metadata": {},
   "outputs": [],
   "source": [
    "def query_record(number,only_today=True):\n",
    "    # number = 20190105  # 学号\n",
    "    # is_today = False   # 是否只查询当天\n",
    "\n",
    "    if only_today:\n",
    "        querySqlId = \"com.sudytech.work.jlzh.jkxxtb.jkxxcj.queryToday\"\n",
    "    else:\n",
    "        querySqlId = \"com.sudytech.work.jlzh.jkxxtb.jkxxcj.queryNear\"\n",
    "\n",
    "    url = \"https://work.jluzh.edu.cn/default/work/jlzh/jkxxtb/com.sudytech.portalone.base.db.queryBySqlWithoutPagecond.biz.ext\"\n",
    "    payloads = '{\"params\":{\"empcode\":\"'+str(number)+'\"},\"querySqlId\":\"'+querySqlId+'\"}'\n",
    "    r = requests.post(url,headers = headers,data=payloads)\n",
    "\n",
    "    try:\n",
    "        output_to_file(f\"data/{number}_temp_output.json\",r.json())\n",
    "        print(f\"已将返回数据输出至 data/{number}_temp_output.json\")\n",
    "    except Exception as e:\n",
    "        print(e)\n",
    "        print(r.text)\n",
    "\n",
    "    return r.json()"
   ]
  },
  {
   "cell_type": "code",
   "execution_count": 8,
   "metadata": {
    "tags": []
   },
   "outputs": [
    {
     "output_type": "stream",
     "name": "stdout",
     "text": [
      "已将返回数据输出至 data/20190226_temp_output.json\n"
     ]
    }
   ],
   "source": [
    "data  = query_record(20190226, False) # 查询"
   ]
  },
  {
   "cell_type": "markdown",
   "metadata": {
    "tags": []
   },
   "source": [
    "## 提交\n",
    "\n",
    "多次提交会在当日提交里创建多个记录，据网站说明会以最后一个提交为准"
   ]
  },
  {
   "cell_type": "code",
   "execution_count": 5,
   "metadata": {},
   "outputs": [],
   "source": [
    "def submit(payloads):\n",
    "    url = \"https://work.jluzh.edu.cn/default/work/jlzh/jkxxtb/com.sudytech.portalone.base.db.saveOrUpdate.biz.ext\"\n",
    "    r = requests.post(url,headers = headers,data=payloads.encode(\"utf-8\"))\n",
    "    \n",
    "    output_to_file(\"data/submit_temp_output.json\",r.json())\n",
    "    print(\"提交成功，返回数据已输出至 data/submit_temp_output.json\")"
   ]
  },
  {
   "cell_type": "markdown",
   "metadata": {},
   "source": [
    "本示例中直接读取本地的健康表填报文件，并作为结果发送。\n",
    "\n",
    "运行前需确保文件中的时间以及其它个人信息是正确的\n",
    "\n",
    "提交内容中的 **sqrid** 每个人都是不一样的，可以通过上面查找之前的填写记录获取 "
   ]
  },
  {
   "cell_type": "code",
   "execution_count": 66,
   "metadata": {},
   "outputs": [],
   "source": [
    "with open(\"data/20190105_submit_demo.json\",'r') as fd:\n",
    "    data = json.load(fd)\n",
    "# submit(json.dumps(data,ensure_ascii=False))"
   ]
  },
  {
   "cell_type": "markdown",
   "metadata": {},
   "source": [
    "## 下一步要做什么\n",
    "\n",
    "在给好Cookie的前提下，提供指定的学号，从提交历史记录中查询必要的信息构建用于本次提交的健康卡，然后提交该健康卡，并检验是否已经提交成功。\n",
    "\n",
    "写一个可以运行的Python程序实现以上功能"
   ]
  },
  {
   "cell_type": "markdown",
   "metadata": {},
   "source": [
    "## 尝试自动构造完整的健康卡"
   ]
  },
  {
   "cell_type": "code",
   "execution_count": 6,
   "metadata": {
    "tags": []
   },
   "outputs": [
    {
     "output_type": "stream",
     "name": "stdout",
     "text": [
      "已将返回数据输出至 data/20190105_temp_output.json\n"
     ]
    }
   ],
   "source": [
    "import time\n",
    "last_card = query_record(20190105,False)[\"list\"][0]\n",
    "# last_card"
   ]
  },
  {
   "cell_type": "code",
   "execution_count": 9,
   "metadata": {},
   "outputs": [],
   "source": [
    "health_card_data = {\n",
    "    \"entity\": {\n",
    "        \"sqrid\": last_card[\"SQRID\"],\n",
    "        \"sqbmid\": last_card[\"SQBMID\"],\n",
    "        \"fdygh\": last_card[\"FDYGH\"],\n",
    "        \"rysf\": last_card[\"RYSF\"],\n",
    "        \"bt\": time.strftime(\"%Y-%m-%d\", time.localtime()) + last_card[\"BT\"][10:],\n",
    "        \"sqrmc\": last_card[\"SQRMC\"],\n",
    "        \"gh\": last_card[\"GH\"],\n",
    "        \"xb\": last_card[\"XB\"],\n",
    "        \"sqbmmc\": last_card[\"SQBMMC\"],\n",
    "        \"nj\": last_card[\"NJ\"],\n",
    "        \"zymc\": last_card[\"ZYMC\"],\n",
    "        \"bjmc\": last_card[\"BJMC\"],\n",
    "        \"fdymc\": last_card[\"FDYMC\"],\n",
    "        \"ssh\": last_card[\"SSH\"],\n",
    "        \"lxdh\": last_card[\"LXDH\"],\n",
    "        \"tbrq\": time.strftime(\"%Y-%m-%d\", time.localtime()),\n",
    "        \"tjsj\": time.strftime(\"%Y-%m-%d %H:%M\", time.localtime()) ,\n",
    "        \"xjzdz\": last_card[\"XJZDZ\"],\n",
    "        \"jqqx\": last_card[\"JQQX\"],\n",
    "        \"sfqwhb\": last_card[\"SFQWHB\"],\n",
    "        \"sfjchbjry\": last_card[\"SFJCHBJRY\"],\n",
    "        \"sfjwhy\": last_card[\"SFJWHY\"],\n",
    "        \"sfjwhygjdq\": last_card[\"SFJWHYGJDQ\"],\n",
    "        \"xrywz\": last_card[\"XRYWZ\"],\n",
    "        \"jtdz\": last_card[\"JTDZ\"],\n",
    "        \"grjkzk\": last_card[\"GRJKZK\"],\n",
    "        \"jrtw\": last_card[\"JRTW\"],\n",
    "        \"qsjkzk\": last_card[\"QSJKZK\"],\n",
    "        \"jkqk\": last_card[\"JKQK\"],\n",
    "        \"cn\": [\n",
    "            \"本人承诺登记后、到校前不再前往其他地区\"\n",
    "        ],\n",
    "        \"bz\": last_card[\"BZ\"],\n",
    "        \"_ext\": \"{}\",\n",
    "        \"__type\": \"sdo:com.sudytech.work.jlzh.jkxxtb.jkxxcj.TJlzhJkxxtb\"\n",
    "    }\n",
    "}\n",
    "# health_card_data"
   ]
  },
  {
   "cell_type": "code",
   "execution_count": 10,
   "metadata": {
    "tags": []
   },
   "outputs": [
    {
     "output_type": "stream",
     "name": "stdout",
     "text": [
      "提交成功，返回数据已输出至 data/submit_temp_output.json\n"
     ]
    }
   ],
   "source": [
    "submit(json.dumps(health_card_data,ensure_ascii=False))"
   ]
  },
  {
   "source": [
    "## 提交多天的健康卡"
   ],
   "cell_type": "markdown",
   "metadata": {}
  },
  {
   "cell_type": "code",
   "execution_count": 51,
   "metadata": {},
   "outputs": [
    {
     "output_type": "stream",
     "name": "stdout",
     "text": [
      "提交成功，返回数据已输出至 data/submit_temp_output.json\n",
      "已提交 2021-01-12 健康卡\n",
      "提交成功，返回数据已输出至 data/submit_temp_output.json\n",
      "已提交 2021-01-13 健康卡\n",
      "提交成功，返回数据已输出至 data/submit_temp_output.json\n",
      "已提交 2021-01-14 健康卡\n",
      "提交成功，返回数据已输出至 data/submit_temp_output.json\n",
      "已提交 2021-01-15 健康卡\n",
      "提交成功，返回数据已输出至 data/submit_temp_output.json\n",
      "已提交 2021-01-16 健康卡\n",
      "提交成功，返回数据已输出至 data/submit_temp_output.json\n",
      "已提交 2021-01-17 健康卡\n",
      "提交成功，返回数据已输出至 data/submit_temp_output.json\n",
      "已提交 2021-01-18 健康卡\n",
      "提交成功，返回数据已输出至 data/submit_temp_output.json\n",
      "已提交 2021-01-19 健康卡\n",
      "提交成功，返回数据已输出至 data/submit_temp_output.json\n",
      "已提交 2021-01-20 健康卡\n"
     ]
    }
   ],
   "source": [
    "def muti_day_submit(days, addr):\n",
    "    for i in range(days):\n",
    "        last_card['JTDZ'] = addr\n",
    "        last_card['XJZDZ'] = addr\n",
    "        modtime = list(time.localtime())\n",
    "        modtime[2] += i  \n",
    "        modtime = time.struct_time(modtime)\n",
    "        health_card_data = {\n",
    "            \"entity\": {\n",
    "                \"sqrid\": last_card[\"SQRID\"],\n",
    "                \"sqbmid\": last_card[\"SQBMID\"],\n",
    "                \"fdygh\": last_card[\"FDYGH\"],\n",
    "                \"rysf\": last_card[\"RYSF\"],\n",
    "                \"bt\": time.strftime(\"%Y-%m-%d\", modtime) + last_card[\"BT\"][10:],\n",
    "                \"sqrmc\": last_card[\"SQRMC\"],\n",
    "                \"gh\": last_card[\"GH\"],\n",
    "                \"xb\": last_card[\"XB\"],\n",
    "                \"sqbmmc\": last_card[\"SQBMMC\"],\n",
    "                \"nj\": last_card[\"NJ\"],\n",
    "                \"zymc\": last_card[\"ZYMC\"],\n",
    "                \"bjmc\": last_card[\"BJMC\"],\n",
    "                \"fdymc\": last_card[\"FDYMC\"],\n",
    "                \"ssh\": last_card[\"SSH\"],\n",
    "                \"lxdh\": last_card[\"LXDH\"],\n",
    "                \"tbrq\": time.strftime(\"%Y-%m-%d\", modtime),\n",
    "                \"tjsj\": time.strftime(\"%Y-%m-%d %H:%M\", modtime) ,\n",
    "                \"xjzdz\": last_card[\"XJZDZ\"],\n",
    "                \"jqqx\": last_card[\"JQQX\"],\n",
    "                \"sfqwhb\": last_card[\"SFQWHB\"],\n",
    "                \"sfjchbjry\": last_card[\"SFJCHBJRY\"],\n",
    "                \"sfjwhy\": last_card[\"SFJWHY\"],\n",
    "                \"sfjwhygjdq\": last_card[\"SFJWHYGJDQ\"],\n",
    "                \"xrywz\": last_card[\"XRYWZ\"],\n",
    "                \"jtdz\": last_card[\"JTDZ\"],\n",
    "                \"grjkzk\": last_card[\"GRJKZK\"],\n",
    "                \"jrtw\": last_card[\"JRTW\"],\n",
    "                \"qsjkzk\": last_card[\"QSJKZK\"],\n",
    "                \"jkqk\": last_card[\"JKQK\"],\n",
    "                \"cn\": [\n",
    "                    \"本人承诺登记后、到校前不再前往其他地区\"\n",
    "                ],\n",
    "                \"bz\": last_card[\"BZ\"],\n",
    "                \"_ext\": \"{}\",\n",
    "                \"__type\": \"sdo:com.sudytech.work.jlzh.jkxxtb.jkxxcj.TJlzhJkxxtb\"\n",
    "            }\n",
    "        }\n",
    "        submit(json.dumps(health_card_data,ensure_ascii=False))\n",
    "        print(f'已提交 {time.strftime(\"%Y-%m-%d\", modtime)} 健康卡')\n",
    "muti_day_submit(9, \"吉林大学珠海学院竹园二十栋101\")"
   ]
  },
  {
   "cell_type": "markdown",
   "metadata": {},
   "source": [
    "## 自动获取cookie\n",
    "\n",
    "在微信小程序中填写健康卡抓包获取到登陆网站为\n",
    "\n",
    ">https://wxapp.jluzh.com/cas/?target=https://work.jluzh.com/default/work/jlzh/jkxxtb/jkxxcj.jsp\n",
    "\n",
    "![image](img/charles.jpg)"
   ]
  },
  {
   "cell_type": "code",
   "execution_count": 10,
   "metadata": {},
   "outputs": [],
   "source": [
    "from selenium import webdriver\n",
    "from selenium.webdriver.common.desired_capabilities import DesiredCapabilities\n",
    "from setting import * #账号密码从setting.py中读取"
   ]
  },
  {
   "cell_type": "code",
   "execution_count": 11,
   "metadata": {},
   "outputs": [],
   "source": [
    "def getWeb():\n",
    "    '''配置web浏览器'''\n",
    "    options = webdriver.ChromeOptions()\n",
    "    mobile_emulation = {\"deviceName\": \"Galaxy S5\"}\n",
    "    capabilities = DesiredCapabilities.CHROME\n",
    "    capabilities['loggingPrefs'] = {'browser': 'ALL'}\n",
    "    # options = webdriver.ChromeOptions()\n",
    "    options.add_experimental_option(\"mobileEmulation\", mobile_emulation)\n",
    "    options.add_experimental_option(\"excludeSwitches\", ['enable-automation'])\n",
    "    # 修改windows.navigator.webdriver，防机器人识别机制，selenium自动登陆判别机制desired_capabilities=capabilities,\n",
    "    options.add_experimental_option('excludeSwitches', ['enable-automation'])\n",
    "    # 更换头部\n",
    "    options.add_argument('user-agent=mozilla/5.0 (iphone; cpu iphone os 5_1_1 like mac os x) applewebkit/534.46 (khtml, like gecko) mobile/9b206 micromessenger/5.0')\n",
    "    #禁用图片\n",
    "    #禁止图片和css加载\n",
    "    prefs = {'permissions.default.stylesheet':2}#\"profile.managed_default_content_settings.images\": 2,\n",
    "    options.add_experimental_option(\"prefs\", prefs)\n",
    "    # #添加代理\n",
    "    # ip,port = '127.0.0.1','8080'\n",
    "    # options.add_argument(('--proxy-server=http://{}:{}'.format(ip,port)))#有的博客写的是'--proxy-server=http://'，就目前我的电脑来看的话需要把http://去掉就可以用，他会自己加的\n",
    "    # options.add_argument('-headless')  # 无头参数\n",
    "    # options.headless = True\n",
    "    web = webdriver.Chrome(executable_path=r'E:\\Google\\Chrome\\Application\\chromedriver.exe',options=options)\n",
    "    url = \"https://wxapp.jluzh.edu.cn/cas/?target=https://work.jluzh.com/default/work/jlzh/jkxxtb/jkxxcj.jsp\"\n",
    "    web.execute_cdp_cmd(\"Page.addScriptToEvaluateOnNewDocument\", {\n",
    "        \"source\": \"\"\"\n",
    "        Object.defineProperty(navigator, 'webdriver', {\n",
    "        get: () => undefined\n",
    "        })\n",
    "    \"\"\"\n",
    "    })\n",
    "    web.set_page_load_timeout(30)\n",
    "    web.set_script_timeout(30)#这两种设置都进行才有效\n",
    "    web.get(url)\n",
    "    # web.add_cookie({'name': 'JSESSIONID','path': '/','value': cookies})\n",
    "    return web"
   ]
  },
  {
   "cell_type": "code",
   "execution_count": 12,
   "metadata": {},
   "outputs": [],
   "source": [
    "def get_cookie():\n",
    "    web = getWeb()\n",
    "    user = web.find_element_by_id(\"username\")\n",
    "    user.send_keys(\"{}\".format(username))#账号密码从setting.py中读取\n",
    "    passwd = web.find_element_by_id(\"password\")\n",
    "    passwd.send_keys(\"{}\".format(password))#账号密码从setting.py中读取\n",
    "    btn = web.find_element_by_id(\"passbutton\")\n",
    "    btn.click()\n",
    "    cookie = web.get_cookies()[0]['value']\n",
    "    web.quit()\n",
    "    return cookie"
   ]
  },
  {
   "cell_type": "markdown",
   "metadata": {},
   "source": [
    "## 部署服务器运行\n",
    "\n",
    "1. 在centos服务器安装chrome浏览器\n",
    "\n",
    "2. 下载chromedriver\n",
    "\n",
    "3. 设定时间自动运行"
   ]
  }
 ]
}