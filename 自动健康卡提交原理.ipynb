{
 "metadata": {
  "language_info": {
   "codemirror_mode": {
    "name": "ipython",
    "version": 3
   },
   "file_extension": ".py",
   "mimetype": "text/x-python",
   "name": "python",
   "nbconvert_exporter": "python",
   "pygments_lexer": "ipython3",
   "version": "3.8.3-final"
  },
  "orig_nbformat": 2,
  "kernelspec": {
   "name": "python3",
   "display_name": "Python 3"
  }
 },
 "nbformat": 4,
 "nbformat_minor": 2,
 "cells": [
  {
   "cell_type": "markdown",
   "metadata": {},
   "source": [
    "# 吉珠自动健康卡填报"
   ]
  },
  {
   "cell_type": "markdown",
   "metadata": {},
   "source": [
    "## 用到的库\n",
    "\n",
    "不必了解每个库的具体用法，在下面的示范中尝试理解即可，有不懂的再去对应的文档里面查阅\n",
    "\n",
    "### requests\n",
    "### selenium\n",
    "\n",
    "用于模拟浏览器发送和接受请求\n",
    "\n",
    "官方文档：https://requests.readthedocs.io/en/master/user/quickstart/\n",
    "\n",
    "如何安装：\n",
    ">pip install requests\n",
    "\n",
    ">pip install selenium\n",
    "\n",
    "### json\n",
    "\n",
    "用于读取和创建json文件\n",
    "\n",
    "官方文档：https://docs.python.org/zh-cn/3/library/json.html\n",
    "\n",
    "如何安装：内置已有\n"
   ]
  },
  {
   "cell_type": "code",
   "execution_count": 8,
   "metadata": {},
   "outputs": [],
   "source": [
    "import requests\n",
    "import json"
   ]
  },
  {
   "cell_type": "markdown",
   "metadata": {},
   "source": [
    "## 关于身份验证\n",
    "\n",
    "只需要一个人的登陆 Cookie 就可以提交和查看任意人的健康卡\n",
    "\n",
    "如果 JSESSIONID 失效了需要手动在网站登陆一遍然后从Chrome开发者工具里找到：\n",
    "\n",
    "![image](img/WX20200808-140955@2x.png)\n",
    "\n",
    "**复制替换下方的 JSESSIONID 值即可。**"
   ]
  },
  {
   "cell_type": "code",
   "execution_count": 9,
   "metadata": {},
   "outputs": [],
   "source": [
    "JSESSIONID = \"F0B8EF498B2A414774AD72184170095C\"\n",
    "headers = {\n",
    "    \"x-requested-with\": \"XMLHttpRequest\",\n",
    "    \"user-agent\": \"Mozilla/5.0 (Macintosh; Intel Mac OS X 10_15_6) AppleWebKit/537.36 (KHTML, like Gecko) ,Chrome/84.0.4147.105 Safari/537.36\",\n",
    "    \"content-type\": \"text/json\",\n",
    "    \"origin\": \"https://work.jluzh.com\",\n",
    "    \"sec-fetch-site\": \"same-origin\",\n",
    "    \"sec-fetch-mode\": \"cors\",\n",
    "    \"sec-fetch-dest\": \"empty\",\n",
    "    \"referer\": \"https://work.jluzh.com/default/work/jlzh/jkxxtb/jkxxcj.jsp\",\n",
    "    \"accept-encoding\": \"gzip, deflate, br\",\n",
    "    \"accept-language\": \"zh-CN,zh;q=0.9,en-US;q=0.8,en;q=0.7\",\n",
    "    \"content-length\": \"896\",\n",
    "    \"cookie\": \"JSESSIONID=\" + JSESSIONID\n",
    "}"
   ]
  },
  {
   "cell_type": "code",
   "execution_count": 10,
   "metadata": {},
   "outputs": [],
   "source": [
    "# 写文件的辅助函数\n",
    "def output_to_file(filename, data):\n",
    "    with open(filename,'w') as fd:\n",
    "        fd.write(json.dumps(data,indent=4,ensure_ascii=False))"
   ]
  },
  {
   "cell_type": "markdown",
   "metadata": {},
   "source": [
    "## 查询填写记录\n",
    "\n",
    "**查询当天填写记录(only_today=Ture) ** 可以用于判断当天有没有提交，辅导员据此看谁没有填健康卡\n",
    "\n",
    "**查询历史提交记录(only_today=False) ** 顾名思义可以看到所有的提交记录"
   ]
  },
  {
   "cell_type": "code",
   "execution_count": 11,
   "metadata": {},
   "outputs": [],
   "source": [
    "def query_record(number,only_today=True):\n",
    "    # number = 20190105  # 学号\n",
    "    # is_today = False   # 是否只查询当天\n",
    "\n",
    "    if only_today:\n",
    "        querySqlId = \"com.sudytech.work.jlzh.jkxxtb.jkxxcj.queryToday\"\n",
    "    else:\n",
    "        querySqlId = \"com.sudytech.work.jlzh.jkxxtb.jkxxcj.queryNear\"\n",
    "\n",
    "    url = \"https://work.jluzh.com/default/work/jlzh/jkxxtb/com.sudytech.portalone.base.db.queryBySqlWithoutPagecond.biz.ext\"\n",
    "    payloads = '{\"params\":{\"empcode\":\"'+str(number)+'\"},\"querySqlId\":\"'+querySqlId+'\"}'\n",
    "    r = requests.post(url,headers = headers,data=payloads)\n",
    "\n",
    "    try:\n",
    "        output_to_file(f\"data/{number}_temp_output.json\",r.json())\n",
    "        print(f\"已将返回数据输出至 data/{number}_temp_output.json\")\n",
    "    except Exception as e:\n",
    "        print(e)\n",
    "        print(r.text)\n",
    "\n",
    "    return r.json()"
   ]
  },
  {
   "cell_type": "code",
   "execution_count": 12,
   "metadata": {
    "tags": []
   },
   "outputs": [
    {
     "output_type": "stream",
     "name": "stdout",
     "text": "Expecting value: line 7 column 1 (char 12)\n\n\n\n\n\n\n<!DOCTYPE html>\n\n\n\n\n\n\n\n\n<html >\n    <head>\n        <meta http-equiv=\"Content-Type\" content=\"text/html; charset=utf-8\" />\n        <meta name=\"viewport\" content=\"width=device-width,user-scalable=0,initial-scale=1.0, minimum-scale=1.0, maximum-scale=1.0\" />\n        <meta http-equiv=\"X-UA-Compatible\" content=\"IE=edge,chrome=1\">\n\n        <title>统一身份认证平台</title>\n\n        <meta name=\"_csrf\" content=\"\"/>\n        <meta name=\"_csrf_header\" content=\"\"/>\n        <!-- login.css -->\n        \n        <!-- pc bg -->\n        \n        <!-- mobile bg -->\n        \n        <!-- brand bg -->\n        \n        <!-- login.js -->\n        \n        <!-- login_sms.js -->\n        \n\n        <!-- login.css -->\n        \n\n        <!-- login.css -->\n        \n\n        <link rel=\"stylesheet\" href=\"/cas/css/bootstrap.min.css\" />\n        <link rel=\"stylesheet\" href=\"/cas/themes/sudy_jlzh/css/login_new.css\" />\n        <link rel=\"stylesheet\" media=\"screen and (min-width:320px) and (max-width:767px)\" href=\"/cas/themes/sudy_jlzh/css/login.css\" />\n\t<link rel=\"stylesheet\" media=\"screen and (min-width:768px) and (max-width:2000px)\" href=\"/cas/themes/sudy_jlzh/css/loginPc.css\" />\n        <link rel=\"icon\" href=\"/cas/favicon.ico\" type=\"image/x-icon\" />\n        <script src='/cas/js/jquery-3.4.1.min.js' ></script>\n        <script src='/cas/js/bootstrap.min.js' ></script>\n\n        <script type=\"text/javascript\">\n            var contextPath = \"/cas\";\n        </script>\n    </head>\n    <body>\n        \n    <!-- sidebar-collapse || 缩小class名称-->\n    \n    <div class=\"\"></div>\n    <div class=\"wrapper\">\n        <div class=\"content-wrapper\">\n            <div class=\"mainbox\">\n                <!-- 头部head||开始 -->\n                <div class=\"boxImg\">\n                    <img src='/cas/themes/sudy_jlzh/images/pic_headbg_02.png' alt=\"\">\n                </div>\n\n\n\n\n\n<div class=\"head clearfix\" id=\"headid\">\n    <div class=\"left\" >\n        <div class=\"left_bottom\">\n            密码登录\n        </div>\n    </div>\n    \n        <div class=\"middle\" id=\"middle\" >\n            <div class=\"middle_bottom\">口令登录\n            </div>\n        </div>\n    \n    \n        <div class=\"right\"id=\"right\" >\n            <div class=\"right_bottom\">二维码登录\n            </div>\n        </div>\n    \n\n</div>\n\n<div class=\"left-login\">\n    <div class=\"login\">\n        <div class=\"codeInfo\">\n            <form id=\"fm1\" action=\"/cas/login?service=https%3A%2F%2Fwork.jluzh.com%2Fdefault%2Fwork%2Fjlzh%2Fjkxxtb%2Fcom.sudytech.portalone.base.db.queryBySqlWithoutPagecond.biz.ext\" method=\"post\">\n                <div class=\"form-error\">\n                    \n                    <span class=\"form-tab-nav\" id=\"swiSpan1\" name=\"swiSpan_fm1\" style=\"display: none;\">\n                        \n                    </span>\n                </div>\n\n                <p class=\"userwrite input-group \">\n                    \n                        \n                        \n                        \n                            <span class=\"glyphicon glyphicon-user\"></span>\n                            <input id=\"username\" name=\"username\" tabindex=\"1\" accesskey=\"\" value=\"\"  autocomplete=\"off\" type=\"text\" class=\"names\" placeholder=\"用户名/邮箱\" />\n                        \n                        \n                    \n\n                    <i></i></p>\n                <p class=\"userwrite\">\n                    <span class=\"glyphicon glyphicon-lock\"></span>\n                    <input id=\"password\" name=\"password\" tabindex=\"2\" accesskey=\"\" value=\"\"  autocomplete=\"off\" type=\"password\" class=\"wordpass\" placeholder=\"密码\" /><i></i></p>\n                    \n                </p>\n                \n\n                \n                    <div class=\"rember\">\n                        <input type=\"checkbox\" name=\"rememberMe\" id=\"rememberMe\" value=\"true\" /> <span>5天内自动登录</span>\n                    </div>\n                \n\n                    <input type=\"hidden\" name=\"execution\" value=\"fe7a7d3b-b19e-4e9f-881a-6e620167a7f6_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\" />\n                    <input type=\"hidden\" name=\"_eventId\" value=\"submit\" />\n                    \n                    <input type=\"hidden\" name=\"loginType\" value=\"1\" />\n                    <div class=\"userwrite userBtn\">\n                        <input type=\"submit\" class=\"btn\" name=\"submit\" id=\"passbutton\" accesskey=\"l\" tabindex=\"6\"  value=\"登&nbsp;&nbsp;录\" onclick=\"return checkPassLogin();\" />\n                    </div>\n            </form>\n            <form id=\"fm2\" style=\"display:none;\" action=\"/cas/login?service=https%3A%2F%2Fwork.jluzh.com%2Fdefault%2Fwork%2Fjlzh%2Fjkxxtb%2Fcom.sudytech.portalone.base.db.queryBySqlWithoutPagecond.biz.ext\" method=\"post\">\n                <div class=\"form-error\">\n                    \n                    <span class=\"form-tab-nav\" id=\"swiSpan2\" name=\"swiSpan_fm2\" style=\"display: none;\">\n                        \n                            \n                            \n                                请输入您绑定的手机号\n                            \n                            \n                        \n                    </span>\n                </div>\n                <p class=\"userwrite input-group \">\n                    \n                        \n                        \n                            <span class=\"glyphicon glyphicon-user\"></span>\n                            <input name=\"username\" id =\"request_username\" tabindex=\"1\" type=\"text\" class=\"names\" placeholder=\"手机号\" />\n                        \n                        \n                    \n                    <i></i></p>\n                <p class=\"userwrite yanzhengma\">\n                    <input style=\"width: 70%\"  name=\"smscode\" id=\"smscode\" tabindex=\"2\" accesskey=\"\" value=\"\"  autocomplete=\"off\" type=\"text\" class=\"wordpass\" placeholder=\"动态验证码\" />\n                    <div class=\"yanzheng\">\n                        <span id=\"send_button\" class=\"button gray\" >发送验证码</span></p>\n                    </div>\n\n                <p>\n                    <input type=\"hidden\" name=\"execution\" value=\"fe7a7d3b-b19e-4e9f-881a-6e620167a7f6_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\" />\n                    <input type=\"hidden\" name=\"_eventId\" value=\"submit\" />\n                    <input type=\"hidden\" name=\"loginType\" value=\"2\" />\n                    <div class=\"userwrite userBtn\">\n                        <input type=\"submit\" class=\"btn\" name=\"submit\" id=\"smsbutton\" accesskey=\"l\" tabindex=\"6\"  value=\"登&nbsp;&nbsp;录\" onclick=\"return checkDynamicLogin();\" />\n                        <a class=\"button\" href=\"http://www.baidu.com\"  >注&nbsp;&nbsp;册</a>\n                    </div>\n\n\n                </p>\n            </form>\n        </div>\n    </div>\n    <div class=\"footer\">\n        <a href=\"\" target=\"_blank\" class=\"n1\"></a>\n        <a href=\"\" target=\"_blank\" class=\"n2\"></a>\n        <a href=\"https://ids.jluzh.com/_web/_apps/ids/api/passwordRecovery/new.rst\" target=\"_blank\" class=\"n3\">忘记密码？</a>\n    </div>\n    <div class =\"tips\">\n        <div>\n            <span id=\"remark_text\">请使用学校统一身份认证账号登录，账号为学号/工号，初始密码大陆学生为身份证后六位，港澳台学生为护照后六位\n</span>\n        </div>\n    </div>\n        <div class =\"otherway\" style=\"display:none\" id=\"otherway\">\n        <div class=\"way\">可以使用以下方式登录</div>\n        \n            \n    </div>\n</div>\n\n<div class=\"qr-code\">\n    <img id=\"qrCode\" src=\"\" alt=\"二维码\">\n    <p>请使用APP扫一扫登录</p>\n</div>\n\n    </div>\n     <div class=\"mainbg\"></div>\n     </div>\n     \n</div> <!-- END #content -->\n\n<div class=\"ui-footer\">\n    <!--<p>本系统支持谷歌以及IE9以上版本浏览器</p>-->\n    <p></p>\n</div>\n\n<script src=\"/cas/js/head.min.js\"></script>\n\n<script type=\"text/javascript\" src=\"/cas/js/cas.js\"></script>\n\n<script src='/cas/themes/sudy_jlzh/js/jlzh.js' ></script>\n<script language='javascript' type=\"text/javascript\">\n    $(document).ready(function() {\n        cover();\n        $(window).resize(function() {\n            cover();\n        });\n    });\n    function cover() {\n        var win_width = $(window).width();\n        var win_height = $(window).height();\n        var boxheight = $(\".wrapper\").height();\n        var brandheight = $(\".brand\").height();\n        $(\".wrapper\").css(\"top\", (win_height - boxheight) / 2);\n        $(\".brand\").css(\"margin-top\", (win_height - boxheight) / 2-80);\n        $(\"#bg\").attr({ width: win_width, height: win_height });\n    }\n    \n</script>\n</body>\n</html>\n\n<script type=\"text/javascript\" src=\"js/security.js\"></script> \n\n<script type=\"text/javascript\" >\n    var qrCodeUrl = \"/cas/generateQRCode?loginLT=0dfe3e67-d883-480a-b175-f948de81603c1596966567507\";\n    var ajaxLoginUrl=\"/cas/analogLogin?loginLT=0dfe3e67-d883-480a-b175-f948de81603c1596966567507\";\n    var qqAuthorizeURL = \"https://graph.qq.com/oauth2.0/authorize?client_id=1106429694&redirect_uri=http%3A%2F%2F170.18.10.70%3A8083%2Fcas%2Fqq%2Fauthlogin&response_type=code&state=b29c3b103c2f2ce139af0c89d99a5ba0&scope=get_user_info,get_other_info,add_t,add_share\";\n    var wbAuthorizeURL = \"https://api.weibo.com/oauth2/authorize?client_id=142950942&redirect_uri=http%3A%2F%2F127.0.0.1%3A8080%2Fcas%2Fwb%2Fauthlogin&response_type=code\";\n    var isSmsLogin = null;\n        \n</script>\n<script type=\"text/javascript\" src=\"/cas/themes/sudy_jlzh/js/login.js\"></script>\n\n\n"
    },
    {
     "output_type": "error",
     "ename": "JSONDecodeError",
     "evalue": "Expecting value: line 7 column 1 (char 12)",
     "traceback": [
      "\u001b[0;31m---------------------------------------------------------------------------\u001b[0m",
      "\u001b[0;31mJSONDecodeError\u001b[0m                           Traceback (most recent call last)",
      "\u001b[0;32m<ipython-input-12-4d2ab767d252>\u001b[0m in \u001b[0;36m<module>\u001b[0;34m\u001b[0m\n\u001b[0;32m----> 1\u001b[0;31m \u001b[0mdata\u001b[0m  \u001b[0;34m=\u001b[0m \u001b[0mquery_record\u001b[0m\u001b[0;34m(\u001b[0m\u001b[0;36m20190105\u001b[0m\u001b[0;34m)\u001b[0m \u001b[0;31m# 查询\u001b[0m\u001b[0;34m\u001b[0m\u001b[0;34m\u001b[0m\u001b[0m\n\u001b[0m",
      "\u001b[0;32m<ipython-input-11-7f22ea3eed62>\u001b[0m in \u001b[0;36mquery_record\u001b[0;34m(number, only_today)\u001b[0m\n\u001b[1;32m     19\u001b[0m         \u001b[0mprint\u001b[0m\u001b[0;34m(\u001b[0m\u001b[0mr\u001b[0m\u001b[0;34m.\u001b[0m\u001b[0mtext\u001b[0m\u001b[0;34m)\u001b[0m\u001b[0;34m\u001b[0m\u001b[0;34m\u001b[0m\u001b[0m\n\u001b[1;32m     20\u001b[0m \u001b[0;34m\u001b[0m\u001b[0m\n\u001b[0;32m---> 21\u001b[0;31m     \u001b[0;32mreturn\u001b[0m \u001b[0mr\u001b[0m\u001b[0;34m.\u001b[0m\u001b[0mjson\u001b[0m\u001b[0;34m(\u001b[0m\u001b[0;34m)\u001b[0m\u001b[0;34m\u001b[0m\u001b[0;34m\u001b[0m\u001b[0m\n\u001b[0m",
      "\u001b[0;32m~/opt/anaconda3/lib/python3.8/site-packages/requests/models.py\u001b[0m in \u001b[0;36mjson\u001b[0;34m(self, **kwargs)\u001b[0m\n\u001b[1;32m    896\u001b[0m                     \u001b[0;31m# used.\u001b[0m\u001b[0;34m\u001b[0m\u001b[0;34m\u001b[0m\u001b[0;34m\u001b[0m\u001b[0m\n\u001b[1;32m    897\u001b[0m                     \u001b[0;32mpass\u001b[0m\u001b[0;34m\u001b[0m\u001b[0;34m\u001b[0m\u001b[0m\n\u001b[0;32m--> 898\u001b[0;31m         \u001b[0;32mreturn\u001b[0m \u001b[0mcomplexjson\u001b[0m\u001b[0;34m.\u001b[0m\u001b[0mloads\u001b[0m\u001b[0;34m(\u001b[0m\u001b[0mself\u001b[0m\u001b[0;34m.\u001b[0m\u001b[0mtext\u001b[0m\u001b[0;34m,\u001b[0m \u001b[0;34m**\u001b[0m\u001b[0mkwargs\u001b[0m\u001b[0;34m)\u001b[0m\u001b[0;34m\u001b[0m\u001b[0;34m\u001b[0m\u001b[0m\n\u001b[0m\u001b[1;32m    899\u001b[0m \u001b[0;34m\u001b[0m\u001b[0m\n\u001b[1;32m    900\u001b[0m     \u001b[0;34m@\u001b[0m\u001b[0mproperty\u001b[0m\u001b[0;34m\u001b[0m\u001b[0;34m\u001b[0m\u001b[0m\n",
      "\u001b[0;32m~/opt/anaconda3/lib/python3.8/json/__init__.py\u001b[0m in \u001b[0;36mloads\u001b[0;34m(s, cls, object_hook, parse_float, parse_int, parse_constant, object_pairs_hook, **kw)\u001b[0m\n\u001b[1;32m    355\u001b[0m             \u001b[0mparse_int\u001b[0m \u001b[0;32mis\u001b[0m \u001b[0;32mNone\u001b[0m \u001b[0;32mand\u001b[0m \u001b[0mparse_float\u001b[0m \u001b[0;32mis\u001b[0m \u001b[0;32mNone\u001b[0m \u001b[0;32mand\u001b[0m\u001b[0;34m\u001b[0m\u001b[0;34m\u001b[0m\u001b[0m\n\u001b[1;32m    356\u001b[0m             parse_constant is None and object_pairs_hook is None and not kw):\n\u001b[0;32m--> 357\u001b[0;31m         \u001b[0;32mreturn\u001b[0m \u001b[0m_default_decoder\u001b[0m\u001b[0;34m.\u001b[0m\u001b[0mdecode\u001b[0m\u001b[0;34m(\u001b[0m\u001b[0ms\u001b[0m\u001b[0;34m)\u001b[0m\u001b[0;34m\u001b[0m\u001b[0;34m\u001b[0m\u001b[0m\n\u001b[0m\u001b[1;32m    358\u001b[0m     \u001b[0;32mif\u001b[0m \u001b[0mcls\u001b[0m \u001b[0;32mis\u001b[0m \u001b[0;32mNone\u001b[0m\u001b[0;34m:\u001b[0m\u001b[0;34m\u001b[0m\u001b[0;34m\u001b[0m\u001b[0m\n\u001b[1;32m    359\u001b[0m         \u001b[0mcls\u001b[0m \u001b[0;34m=\u001b[0m \u001b[0mJSONDecoder\u001b[0m\u001b[0;34m\u001b[0m\u001b[0;34m\u001b[0m\u001b[0m\n",
      "\u001b[0;32m~/opt/anaconda3/lib/python3.8/json/decoder.py\u001b[0m in \u001b[0;36mdecode\u001b[0;34m(self, s, _w)\u001b[0m\n\u001b[1;32m    335\u001b[0m \u001b[0;34m\u001b[0m\u001b[0m\n\u001b[1;32m    336\u001b[0m         \"\"\"\n\u001b[0;32m--> 337\u001b[0;31m         \u001b[0mobj\u001b[0m\u001b[0;34m,\u001b[0m \u001b[0mend\u001b[0m \u001b[0;34m=\u001b[0m \u001b[0mself\u001b[0m\u001b[0;34m.\u001b[0m\u001b[0mraw_decode\u001b[0m\u001b[0;34m(\u001b[0m\u001b[0ms\u001b[0m\u001b[0;34m,\u001b[0m \u001b[0midx\u001b[0m\u001b[0;34m=\u001b[0m\u001b[0m_w\u001b[0m\u001b[0;34m(\u001b[0m\u001b[0ms\u001b[0m\u001b[0;34m,\u001b[0m \u001b[0;36m0\u001b[0m\u001b[0;34m)\u001b[0m\u001b[0;34m.\u001b[0m\u001b[0mend\u001b[0m\u001b[0;34m(\u001b[0m\u001b[0;34m)\u001b[0m\u001b[0;34m)\u001b[0m\u001b[0;34m\u001b[0m\u001b[0;34m\u001b[0m\u001b[0m\n\u001b[0m\u001b[1;32m    338\u001b[0m         \u001b[0mend\u001b[0m \u001b[0;34m=\u001b[0m \u001b[0m_w\u001b[0m\u001b[0;34m(\u001b[0m\u001b[0ms\u001b[0m\u001b[0;34m,\u001b[0m \u001b[0mend\u001b[0m\u001b[0;34m)\u001b[0m\u001b[0;34m.\u001b[0m\u001b[0mend\u001b[0m\u001b[0;34m(\u001b[0m\u001b[0;34m)\u001b[0m\u001b[0;34m\u001b[0m\u001b[0;34m\u001b[0m\u001b[0m\n\u001b[1;32m    339\u001b[0m         \u001b[0;32mif\u001b[0m \u001b[0mend\u001b[0m \u001b[0;34m!=\u001b[0m \u001b[0mlen\u001b[0m\u001b[0;34m(\u001b[0m\u001b[0ms\u001b[0m\u001b[0;34m)\u001b[0m\u001b[0;34m:\u001b[0m\u001b[0;34m\u001b[0m\u001b[0;34m\u001b[0m\u001b[0m\n",
      "\u001b[0;32m~/opt/anaconda3/lib/python3.8/json/decoder.py\u001b[0m in \u001b[0;36mraw_decode\u001b[0;34m(self, s, idx)\u001b[0m\n\u001b[1;32m    353\u001b[0m             \u001b[0mobj\u001b[0m\u001b[0;34m,\u001b[0m \u001b[0mend\u001b[0m \u001b[0;34m=\u001b[0m \u001b[0mself\u001b[0m\u001b[0;34m.\u001b[0m\u001b[0mscan_once\u001b[0m\u001b[0;34m(\u001b[0m\u001b[0ms\u001b[0m\u001b[0;34m,\u001b[0m \u001b[0midx\u001b[0m\u001b[0;34m)\u001b[0m\u001b[0;34m\u001b[0m\u001b[0;34m\u001b[0m\u001b[0m\n\u001b[1;32m    354\u001b[0m         \u001b[0;32mexcept\u001b[0m \u001b[0mStopIteration\u001b[0m \u001b[0;32mas\u001b[0m \u001b[0merr\u001b[0m\u001b[0;34m:\u001b[0m\u001b[0;34m\u001b[0m\u001b[0;34m\u001b[0m\u001b[0m\n\u001b[0;32m--> 355\u001b[0;31m             \u001b[0;32mraise\u001b[0m \u001b[0mJSONDecodeError\u001b[0m\u001b[0;34m(\u001b[0m\u001b[0;34m\"Expecting value\"\u001b[0m\u001b[0;34m,\u001b[0m \u001b[0ms\u001b[0m\u001b[0;34m,\u001b[0m \u001b[0merr\u001b[0m\u001b[0;34m.\u001b[0m\u001b[0mvalue\u001b[0m\u001b[0;34m)\u001b[0m \u001b[0;32mfrom\u001b[0m \u001b[0;32mNone\u001b[0m\u001b[0;34m\u001b[0m\u001b[0;34m\u001b[0m\u001b[0m\n\u001b[0m\u001b[1;32m    356\u001b[0m         \u001b[0;32mreturn\u001b[0m \u001b[0mobj\u001b[0m\u001b[0;34m,\u001b[0m \u001b[0mend\u001b[0m\u001b[0;34m\u001b[0m\u001b[0;34m\u001b[0m\u001b[0m\n",
      "\u001b[0;31mJSONDecodeError\u001b[0m: Expecting value: line 7 column 1 (char 12)"
     ]
    }
   ],
   "source": [
    "data  = query_record(20190105) # 查询"
   ]
  },
  {
   "cell_type": "markdown",
   "metadata": {
    "tags": []
   },
   "source": [
    "## 提交\n",
    "\n",
    "多次提交会在当日提交里创建多个记录，据网站说明会以最后一个提交为准"
   ]
  },
  {
   "cell_type": "code",
   "execution_count": 23,
   "metadata": {},
   "outputs": [],
   "source": [
    "def submit(payloads):\n",
    "    url = \"https://work.jluzh.com/default/work/jlzh/jkxxtb/com.sudytech.portalone.base.db.saveOrUpdate.biz.ext\"\n",
    "    r = requests.post(url,headers = headers,data=payloads.encode(\"utf-8\"))\n",
    "    \n",
    "    output_to_file(\"data/submit_temp_output.json\",r.json())\n",
    "    print(\"提交成功，返回数据已输出至 data/submit_temp_output.json\")"
   ]
  },
  {
   "cell_type": "markdown",
   "metadata": {},
   "source": [
    "本示例中直接读取本地的健康表填报文件，并作为结果发送。\n",
    "\n",
    "运行前需确保文件中的时间以及其它个人信息是正确的\n",
    "\n",
    "提交内容中的 **sqrid** 每个人都是不一样的，可以通过上面查找之前的填写记录获取 "
   ]
  },
  {
   "cell_type": "code",
   "execution_count": 66,
   "metadata": {},
   "outputs": [],
   "source": [
    "with open(\"data/20190226_submit_demo.json\",'r') as fd:\n",
    "    data = json.load(fd)\n",
    "submit(json.dumps(data,ensure_ascii=False))"
   ]
  },
  {
   "cell_type": "markdown",
   "metadata": {},
   "source": [
    "## 下一步要做什么\n",
    "\n",
    "在给好Cookie的前提下，提供指定的学号，从提交历史记录中查询必要的信息构建用于本次提交的健康卡，然后提交该健康卡，并检验是否已经提交成功。\n",
    "\n",
    "写一个可以运行的Python程序实现以上功能"
   ]
  },
  {
   "cell_type": "markdown",
   "metadata": {},
   "source": [
    "## 尝试自动构造完整的健康卡"
   ]
  },
  {
   "cell_type": "code",
   "execution_count": 7,
   "metadata": {
    "tags": []
   },
   "outputs": [
    {
     "output_type": "stream",
     "name": "stdout",
     "text": "Expecting value: line 7 column 1 (char 12)\n\n\n\n\n\n\n<!DOCTYPE html>\n\n\n\n\n\n\n\n\n<html >\n    <head>\n        <meta http-equiv=\"Content-Type\" content=\"text/html; charset=utf-8\" />\n        <meta name=\"viewport\" content=\"width=device-width,user-scalable=0,initial-scale=1.0, minimum-scale=1.0, maximum-scale=1.0\" />\n        <meta http-equiv=\"X-UA-Compatible\" content=\"IE=edge,chrome=1\">\n\n        <title>统一身份认证平台</title>\n\n        <meta name=\"_csrf\" content=\"\"/>\n        <meta name=\"_csrf_header\" content=\"\"/>\n        <!-- login.css -->\n        \n        <!-- pc bg -->\n        \n        <!-- mobile bg -->\n        \n        <!-- brand bg -->\n        \n        <!-- login.js -->\n        \n        <!-- login_sms.js -->\n        \n\n        <!-- login.css -->\n        \n\n        <!-- login.css -->\n        \n\n        <link rel=\"stylesheet\" href=\"/cas/css/bootstrap.min.css\" />\n        <link rel=\"stylesheet\" href=\"/cas/themes/sudy_jlzh/css/login_new.css\" />\n        <link rel=\"stylesheet\" media=\"screen and (min-width:320px) and (max-width:767px)\" href=\"/cas/themes/sudy_jlzh/css/login.css\" />\n\t<link rel=\"stylesheet\" media=\"screen and (min-width:768px) and (max-width:2000px)\" href=\"/cas/themes/sudy_jlzh/css/loginPc.css\" />\n        <link rel=\"icon\" href=\"/cas/favicon.ico\" type=\"image/x-icon\" />\n        <script src='/cas/js/jquery-3.4.1.min.js' ></script>\n        <script src='/cas/js/bootstrap.min.js' ></script>\n\n        <script type=\"text/javascript\">\n            var contextPath = \"/cas\";\n        </script>\n    </head>\n    <body>\n        \n    <!-- sidebar-collapse || 缩小class名称-->\n    \n    <div class=\"\"></div>\n    <div class=\"wrapper\">\n        <div class=\"content-wrapper\">\n            <div class=\"mainbox\">\n                <!-- 头部head||开始 -->\n                <div class=\"boxImg\">\n                    <img src='/cas/themes/sudy_jlzh/images/pic_headbg_02.png' alt=\"\">\n                </div>\n\n\n\n\n\n<div class=\"head clearfix\" id=\"headid\">\n    <div class=\"left\" >\n        <div class=\"left_bottom\">\n            密码登录\n        </div>\n    </div>\n    \n        <div class=\"middle\" id=\"middle\" >\n            <div class=\"middle_bottom\">口令登录\n            </div>\n        </div>\n    \n    \n        <div class=\"right\"id=\"right\" >\n            <div class=\"right_bottom\">二维码登录\n            </div>\n        </div>\n    \n\n</div>\n\n<div class=\"left-login\">\n    <div class=\"login\">\n        <div class=\"codeInfo\">\n            <form id=\"fm1\" action=\"/cas/login?service=https%3A%2F%2Fwork.jluzh.com%2Fdefault%2Fwork%2Fjlzh%2Fjkxxtb%2Fcom.sudytech.portalone.base.db.queryBySqlWithoutPagecond.biz.ext\" method=\"post\">\n                <div class=\"form-error\">\n                    \n                    <span class=\"form-tab-nav\" id=\"swiSpan1\" name=\"swiSpan_fm1\" style=\"display: none;\">\n                        \n                    </span>\n                </div>\n\n                <p class=\"userwrite input-group \">\n                    \n                        \n                        \n                        \n                            <span class=\"glyphicon glyphicon-user\"></span>\n                            <input id=\"username\" name=\"username\" tabindex=\"1\" accesskey=\"\" value=\"\"  autocomplete=\"off\" type=\"text\" class=\"names\" placeholder=\"用户名/邮箱\" />\n                        \n                        \n                    \n\n                    <i></i></p>\n                <p class=\"userwrite\">\n                    <span class=\"glyphicon glyphicon-lock\"></span>\n                    <input id=\"password\" name=\"password\" tabindex=\"2\" accesskey=\"\" value=\"\"  autocomplete=\"off\" type=\"password\" class=\"wordpass\" placeholder=\"密码\" /><i></i></p>\n                    \n                </p>\n                \n\n                \n                    <div class=\"rember\">\n                        <input type=\"checkbox\" name=\"rememberMe\" id=\"rememberMe\" value=\"true\" /> <span>5天内自动登录</span>\n                    </div>\n                \n\n                    <input type=\"hidden\" name=\"execution\" value=\"056e0b03-0750-4f5a-b288-726262937b3e_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\" />\n                    <input type=\"hidden\" name=\"_eventId\" value=\"submit\" />\n                    \n                    <input type=\"hidden\" name=\"loginType\" value=\"1\" />\n                    <div class=\"userwrite userBtn\">\n                        <input type=\"submit\" class=\"btn\" name=\"submit\" id=\"passbutton\" accesskey=\"l\" tabindex=\"6\"  value=\"登&nbsp;&nbsp;录\" onclick=\"return checkPassLogin();\" />\n                    </div>\n            </form>\n            <form id=\"fm2\" style=\"display:none;\" action=\"/cas/login?service=https%3A%2F%2Fwork.jluzh.com%2Fdefault%2Fwork%2Fjlzh%2Fjkxxtb%2Fcom.sudytech.portalone.base.db.queryBySqlWithoutPagecond.biz.ext\" method=\"post\">\n                <div class=\"form-error\">\n                    \n                    <span class=\"form-tab-nav\" id=\"swiSpan2\" name=\"swiSpan_fm2\" style=\"display: none;\">\n                        \n                            \n                            \n                                请输入您绑定的手机号\n                            \n                            \n                        \n                    </span>\n                </div>\n                <p class=\"userwrite input-group \">\n                    \n                        \n                        \n                            <span class=\"glyphicon glyphicon-user\"></span>\n                            <input name=\"username\" id =\"request_username\" tabindex=\"1\" type=\"text\" class=\"names\" placeholder=\"手机号\" />\n                        \n                        \n                    \n                    <i></i></p>\n                <p class=\"userwrite yanzhengma\">\n                    <input style=\"width: 70%\"  name=\"smscode\" id=\"smscode\" tabindex=\"2\" accesskey=\"\" value=\"\"  autocomplete=\"off\" type=\"text\" class=\"wordpass\" placeholder=\"动态验证码\" />\n                    <div class=\"yanzheng\">\n                        <span id=\"send_button\" class=\"button gray\" >发送验证码</span></p>\n                    </div>\n\n                <p>\n                    <input type=\"hidden\" name=\"execution\" value=\"056e0b03-0750-4f5a-b288-726262937b3e_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\" />\n                    <input type=\"hidden\" name=\"_eventId\" value=\"submit\" />\n                    <input type=\"hidden\" name=\"loginType\" value=\"2\" />\n                    <div class=\"userwrite userBtn\">\n                        <input type=\"submit\" class=\"btn\" name=\"submit\" id=\"smsbutton\" accesskey=\"l\" tabindex=\"6\"  value=\"登&nbsp;&nbsp;录\" onclick=\"return checkDynamicLogin();\" />\n                        <a class=\"button\" href=\"http://www.baidu.com\"  >注&nbsp;&nbsp;册</a>\n                    </div>\n\n\n                </p>\n            </form>\n        </div>\n    </div>\n    <div class=\"footer\">\n        <a href=\"\" target=\"_blank\" class=\"n1\"></a>\n        <a href=\"\" target=\"_blank\" class=\"n2\"></a>\n        <a href=\"https://ids.jluzh.com/_web/_apps/ids/api/passwordRecovery/new.rst\" target=\"_blank\" class=\"n3\">忘记密码？</a>\n    </div>\n    <div class =\"tips\">\n        <div>\n            <span id=\"remark_text\">请使用学校统一身份认证账号登录，账号为学号/工号，初始密码大陆学生为身份证后六位，港澳台学生为护照后六位\n</span>\n        </div>\n    </div>\n        <div class =\"otherway\" style=\"display:none\" id=\"otherway\">\n        <div class=\"way\">可以使用以下方式登录</div>\n        \n            \n    </div>\n</div>\n\n<div class=\"qr-code\">\n    <img id=\"qrCode\" src=\"\" alt=\"二维码\">\n    <p>请使用APP扫一扫登录</p>\n</div>\n\n    </div>\n     <div class=\"mainbg\"></div>\n     </div>\n     \n</div> <!-- END #content -->\n\n<div class=\"ui-footer\">\n    <!--<p>本系统支持谷歌以及IE9以上版本浏览器</p>-->\n    <p></p>\n</div>\n\n<script src=\"/cas/js/head.min.js\"></script>\n\n<script type=\"text/javascript\" src=\"/cas/js/cas.js\"></script>\n\n<script src='/cas/themes/sudy_jlzh/js/jlzh.js' ></script>\n<script language='javascript' type=\"text/javascript\">\n    $(document).ready(function() {\n        cover();\n        $(window).resize(function() {\n            cover();\n        });\n    });\n    function cover() {\n        var win_width = $(window).width();\n        var win_height = $(window).height();\n        var boxheight = $(\".wrapper\").height();\n        var brandheight = $(\".brand\").height();\n        $(\".wrapper\").css(\"top\", (win_height - boxheight) / 2);\n        $(\".brand\").css(\"margin-top\", (win_height - boxheight) / 2-80);\n        $(\"#bg\").attr({ width: win_width, height: win_height });\n    }\n    \n</script>\n</body>\n</html>\n\n<script type=\"text/javascript\" src=\"js/security.js\"></script> \n\n<script type=\"text/javascript\" >\n    var qrCodeUrl = \"/cas/generateQRCode?loginLT=d252d160-9afd-45e0-a6d8-dc44248440531596966415613\";\n    var ajaxLoginUrl=\"/cas/analogLogin?loginLT=d252d160-9afd-45e0-a6d8-dc44248440531596966415613\";\n    var qqAuthorizeURL = \"https://graph.qq.com/oauth2.0/authorize?client_id=1106429694&redirect_uri=http%3A%2F%2F170.18.10.70%3A8083%2Fcas%2Fqq%2Fauthlogin&response_type=code&state=d659a327704cd29655d35c0e620e65d3&scope=get_user_info,get_other_info,add_t,add_share\";\n    var wbAuthorizeURL = \"https://api.weibo.com/oauth2/authorize?client_id=142950942&redirect_uri=http%3A%2F%2F127.0.0.1%3A8080%2Fcas%2Fwb%2Fauthlogin&response_type=code\";\n    var isSmsLogin = null;\n        \n</script>\n<script type=\"text/javascript\" src=\"/cas/themes/sudy_jlzh/js/login.js\"></script>\n\n\n"
    },
    {
     "output_type": "error",
     "ename": "JSONDecodeError",
     "evalue": "Expecting value: line 7 column 1 (char 12)",
     "traceback": [
      "\u001b[0;31m---------------------------------------------------------------------------\u001b[0m",
      "\u001b[0;31mJSONDecodeError\u001b[0m                           Traceback (most recent call last)",
      "\u001b[0;32m<ipython-input-7-a0766ce40e1e>\u001b[0m in \u001b[0;36m<module>\u001b[0;34m\u001b[0m\n\u001b[1;32m      1\u001b[0m \u001b[0;32mimport\u001b[0m \u001b[0mtime\u001b[0m\u001b[0;34m\u001b[0m\u001b[0;34m\u001b[0m\u001b[0m\n\u001b[0;32m----> 2\u001b[0;31m \u001b[0mlast_card\u001b[0m \u001b[0;34m=\u001b[0m \u001b[0mquery_record\u001b[0m\u001b[0;34m(\u001b[0m\u001b[0;36m20190105\u001b[0m\u001b[0;34m,\u001b[0m\u001b[0;32mFalse\u001b[0m\u001b[0;34m)\u001b[0m\u001b[0;34m[\u001b[0m\u001b[0;34m\"list\"\u001b[0m\u001b[0;34m]\u001b[0m\u001b[0;34m[\u001b[0m\u001b[0;36m0\u001b[0m\u001b[0;34m]\u001b[0m\u001b[0;34m\u001b[0m\u001b[0;34m\u001b[0m\u001b[0m\n\u001b[0m\u001b[1;32m      3\u001b[0m \u001b[0;31m# last_card\u001b[0m\u001b[0;34m\u001b[0m\u001b[0;34m\u001b[0m\u001b[0;34m\u001b[0m\u001b[0m\n",
      "\u001b[0;32m<ipython-input-4-7f22ea3eed62>\u001b[0m in \u001b[0;36mquery_record\u001b[0;34m(number, only_today)\u001b[0m\n\u001b[1;32m     19\u001b[0m         \u001b[0mprint\u001b[0m\u001b[0;34m(\u001b[0m\u001b[0mr\u001b[0m\u001b[0;34m.\u001b[0m\u001b[0mtext\u001b[0m\u001b[0;34m)\u001b[0m\u001b[0;34m\u001b[0m\u001b[0;34m\u001b[0m\u001b[0m\n\u001b[1;32m     20\u001b[0m \u001b[0;34m\u001b[0m\u001b[0m\n\u001b[0;32m---> 21\u001b[0;31m     \u001b[0;32mreturn\u001b[0m \u001b[0mr\u001b[0m\u001b[0;34m.\u001b[0m\u001b[0mjson\u001b[0m\u001b[0;34m(\u001b[0m\u001b[0;34m)\u001b[0m\u001b[0;34m\u001b[0m\u001b[0;34m\u001b[0m\u001b[0m\n\u001b[0m",
      "\u001b[0;32m~/opt/anaconda3/lib/python3.8/site-packages/requests/models.py\u001b[0m in \u001b[0;36mjson\u001b[0;34m(self, **kwargs)\u001b[0m\n\u001b[1;32m    896\u001b[0m                     \u001b[0;31m# used.\u001b[0m\u001b[0;34m\u001b[0m\u001b[0;34m\u001b[0m\u001b[0;34m\u001b[0m\u001b[0m\n\u001b[1;32m    897\u001b[0m                     \u001b[0;32mpass\u001b[0m\u001b[0;34m\u001b[0m\u001b[0;34m\u001b[0m\u001b[0m\n\u001b[0;32m--> 898\u001b[0;31m         \u001b[0;32mreturn\u001b[0m \u001b[0mcomplexjson\u001b[0m\u001b[0;34m.\u001b[0m\u001b[0mloads\u001b[0m\u001b[0;34m(\u001b[0m\u001b[0mself\u001b[0m\u001b[0;34m.\u001b[0m\u001b[0mtext\u001b[0m\u001b[0;34m,\u001b[0m \u001b[0;34m**\u001b[0m\u001b[0mkwargs\u001b[0m\u001b[0;34m)\u001b[0m\u001b[0;34m\u001b[0m\u001b[0;34m\u001b[0m\u001b[0m\n\u001b[0m\u001b[1;32m    899\u001b[0m \u001b[0;34m\u001b[0m\u001b[0m\n\u001b[1;32m    900\u001b[0m     \u001b[0;34m@\u001b[0m\u001b[0mproperty\u001b[0m\u001b[0;34m\u001b[0m\u001b[0;34m\u001b[0m\u001b[0m\n",
      "\u001b[0;32m~/opt/anaconda3/lib/python3.8/json/__init__.py\u001b[0m in \u001b[0;36mloads\u001b[0;34m(s, cls, object_hook, parse_float, parse_int, parse_constant, object_pairs_hook, **kw)\u001b[0m\n\u001b[1;32m    355\u001b[0m             \u001b[0mparse_int\u001b[0m \u001b[0;32mis\u001b[0m \u001b[0;32mNone\u001b[0m \u001b[0;32mand\u001b[0m \u001b[0mparse_float\u001b[0m \u001b[0;32mis\u001b[0m \u001b[0;32mNone\u001b[0m \u001b[0;32mand\u001b[0m\u001b[0;34m\u001b[0m\u001b[0;34m\u001b[0m\u001b[0m\n\u001b[1;32m    356\u001b[0m             parse_constant is None and object_pairs_hook is None and not kw):\n\u001b[0;32m--> 357\u001b[0;31m         \u001b[0;32mreturn\u001b[0m \u001b[0m_default_decoder\u001b[0m\u001b[0;34m.\u001b[0m\u001b[0mdecode\u001b[0m\u001b[0;34m(\u001b[0m\u001b[0ms\u001b[0m\u001b[0;34m)\u001b[0m\u001b[0;34m\u001b[0m\u001b[0;34m\u001b[0m\u001b[0m\n\u001b[0m\u001b[1;32m    358\u001b[0m     \u001b[0;32mif\u001b[0m \u001b[0mcls\u001b[0m \u001b[0;32mis\u001b[0m \u001b[0;32mNone\u001b[0m\u001b[0;34m:\u001b[0m\u001b[0;34m\u001b[0m\u001b[0;34m\u001b[0m\u001b[0m\n\u001b[1;32m    359\u001b[0m         \u001b[0mcls\u001b[0m \u001b[0;34m=\u001b[0m \u001b[0mJSONDecoder\u001b[0m\u001b[0;34m\u001b[0m\u001b[0;34m\u001b[0m\u001b[0m\n",
      "\u001b[0;32m~/opt/anaconda3/lib/python3.8/json/decoder.py\u001b[0m in \u001b[0;36mdecode\u001b[0;34m(self, s, _w)\u001b[0m\n\u001b[1;32m    335\u001b[0m \u001b[0;34m\u001b[0m\u001b[0m\n\u001b[1;32m    336\u001b[0m         \"\"\"\n\u001b[0;32m--> 337\u001b[0;31m         \u001b[0mobj\u001b[0m\u001b[0;34m,\u001b[0m \u001b[0mend\u001b[0m \u001b[0;34m=\u001b[0m \u001b[0mself\u001b[0m\u001b[0;34m.\u001b[0m\u001b[0mraw_decode\u001b[0m\u001b[0;34m(\u001b[0m\u001b[0ms\u001b[0m\u001b[0;34m,\u001b[0m \u001b[0midx\u001b[0m\u001b[0;34m=\u001b[0m\u001b[0m_w\u001b[0m\u001b[0;34m(\u001b[0m\u001b[0ms\u001b[0m\u001b[0;34m,\u001b[0m \u001b[0;36m0\u001b[0m\u001b[0;34m)\u001b[0m\u001b[0;34m.\u001b[0m\u001b[0mend\u001b[0m\u001b[0;34m(\u001b[0m\u001b[0;34m)\u001b[0m\u001b[0;34m)\u001b[0m\u001b[0;34m\u001b[0m\u001b[0;34m\u001b[0m\u001b[0m\n\u001b[0m\u001b[1;32m    338\u001b[0m         \u001b[0mend\u001b[0m \u001b[0;34m=\u001b[0m \u001b[0m_w\u001b[0m\u001b[0;34m(\u001b[0m\u001b[0ms\u001b[0m\u001b[0;34m,\u001b[0m \u001b[0mend\u001b[0m\u001b[0;34m)\u001b[0m\u001b[0;34m.\u001b[0m\u001b[0mend\u001b[0m\u001b[0;34m(\u001b[0m\u001b[0;34m)\u001b[0m\u001b[0;34m\u001b[0m\u001b[0;34m\u001b[0m\u001b[0m\n\u001b[1;32m    339\u001b[0m         \u001b[0;32mif\u001b[0m \u001b[0mend\u001b[0m \u001b[0;34m!=\u001b[0m \u001b[0mlen\u001b[0m\u001b[0;34m(\u001b[0m\u001b[0ms\u001b[0m\u001b[0;34m)\u001b[0m\u001b[0;34m:\u001b[0m\u001b[0;34m\u001b[0m\u001b[0;34m\u001b[0m\u001b[0m\n",
      "\u001b[0;32m~/opt/anaconda3/lib/python3.8/json/decoder.py\u001b[0m in \u001b[0;36mraw_decode\u001b[0;34m(self, s, idx)\u001b[0m\n\u001b[1;32m    353\u001b[0m             \u001b[0mobj\u001b[0m\u001b[0;34m,\u001b[0m \u001b[0mend\u001b[0m \u001b[0;34m=\u001b[0m \u001b[0mself\u001b[0m\u001b[0;34m.\u001b[0m\u001b[0mscan_once\u001b[0m\u001b[0;34m(\u001b[0m\u001b[0ms\u001b[0m\u001b[0;34m,\u001b[0m \u001b[0midx\u001b[0m\u001b[0;34m)\u001b[0m\u001b[0;34m\u001b[0m\u001b[0;34m\u001b[0m\u001b[0m\n\u001b[1;32m    354\u001b[0m         \u001b[0;32mexcept\u001b[0m \u001b[0mStopIteration\u001b[0m \u001b[0;32mas\u001b[0m \u001b[0merr\u001b[0m\u001b[0;34m:\u001b[0m\u001b[0;34m\u001b[0m\u001b[0;34m\u001b[0m\u001b[0m\n\u001b[0;32m--> 355\u001b[0;31m             \u001b[0;32mraise\u001b[0m \u001b[0mJSONDecodeError\u001b[0m\u001b[0;34m(\u001b[0m\u001b[0;34m\"Expecting value\"\u001b[0m\u001b[0;34m,\u001b[0m \u001b[0ms\u001b[0m\u001b[0;34m,\u001b[0m \u001b[0merr\u001b[0m\u001b[0;34m.\u001b[0m\u001b[0mvalue\u001b[0m\u001b[0;34m)\u001b[0m \u001b[0;32mfrom\u001b[0m \u001b[0;32mNone\u001b[0m\u001b[0;34m\u001b[0m\u001b[0;34m\u001b[0m\u001b[0m\n\u001b[0m\u001b[1;32m    356\u001b[0m         \u001b[0;32mreturn\u001b[0m \u001b[0mobj\u001b[0m\u001b[0;34m,\u001b[0m \u001b[0mend\u001b[0m\u001b[0;34m\u001b[0m\u001b[0;34m\u001b[0m\u001b[0m\n",
      "\u001b[0;31mJSONDecodeError\u001b[0m: Expecting value: line 7 column 1 (char 12)"
     ]
    }
   ],
   "source": [
    "import time\n",
    "last_card = query_record(20190105,False)[\"list\"][0]\n",
    "# last_card"
   ]
  },
  {
   "cell_type": "code",
   "execution_count": 21,
   "metadata": {},
   "outputs": [
    {
     "output_type": "execute_result",
     "data": {
      "text/plain": "{'entity': {'sqrid': '119542',\n  'sqbmid': '300',\n  'fdygh': '15034',\n  'rysf': '2',\n  'bt': '2020-08-09 曾一凡 健康卡填报',\n  'sqrmc': '曾一凡',\n  'gh': '20190105',\n  'xb': '1',\n  'sqbmmc': '阿里云大数据应用学院',\n  'nj': '2019',\n  'zymc': '数据科学与大数据技术',\n  'bjmc': '阿里云大数据应用学院2019级1班',\n  'fdymc': '梁津铭',\n  'ssh': '竹5-528-1',\n  'lxdh': '13302252421',\n  'tbrq': '2020-08-09',\n  'tjsj': '2020-08-09 09:41',\n  'xjzdz': '广东省广州市天河区禺东西路52号3202房',\n  'jqqx': '2020年1月12日至今 广东省广州市天河区禺东西路52号3202房',\n  'sfqwhb': '否',\n  'sfjchbjry': '否',\n  'sfjwhy': '否',\n  'sfjwhygjdq': None,\n  'xrywz': '2',\n  'jtdz': '广东省广州市天河区禺东西路52号3202房',\n  'grjkzk': '1',\n  'jrtw': '36.7',\n  'qsjkzk': '1',\n  'jkqk': '1',\n  'cn': ['本人承诺登记后、到校前不再前往其他地区'],\n  'bz': None,\n  '_ext': '{}',\n  '__type': 'sdo:com.sudytech.work.jlzh.jkxxtb.jkxxcj.TJlzhJkxxtb'}}"
     },
     "metadata": {},
     "execution_count": 21
    }
   ],
   "source": [
    "health_card_data = {\n",
    "    \"entity\": {\n",
    "        \"sqrid\": last_card[\"SQRID\"],\n",
    "        \"sqbmid\": last_card[\"SQBMID\"],\n",
    "        \"fdygh\": last_card[\"FDYGH\"],\n",
    "        \"rysf\": last_card[\"RYSF\"],\n",
    "        \"bt\": time.strftime(\"%Y-%m-%d\", time.localtime()) + last_card[\"BT\"][10:],\n",
    "        \"sqrmc\": last_card[\"SQRMC\"],\n",
    "        \"gh\": last_card[\"GH\"],\n",
    "        \"xb\": last_card[\"XB\"],\n",
    "        \"sqbmmc\": last_card[\"SQBMMC\"],\n",
    "        \"nj\": last_card[\"NJ\"],\n",
    "        \"zymc\": last_card[\"ZYMC\"],\n",
    "        \"bjmc\": last_card[\"BJMC\"],\n",
    "        \"fdymc\": last_card[\"FDYMC\"],\n",
    "        \"ssh\": last_card[\"SSH\"],\n",
    "        \"lxdh\": last_card[\"LXDH\"],\n",
    "        \"tbrq\": time.strftime(\"%Y-%m-%d\", time.localtime()),\n",
    "        \"tjsj\": time.strftime(\"%Y-%m-%d %H:%M\", time.localtime()) ,\n",
    "        \"xjzdz\": last_card[\"XJZDZ\"],\n",
    "        \"jqqx\": last_card[\"JQQX\"],\n",
    "        \"sfqwhb\": last_card[\"SFQWHB\"],\n",
    "        \"sfjchbjry\": last_card[\"SFJCHBJRY\"],\n",
    "        \"sfjwhy\": last_card[\"SFJWHY\"],\n",
    "        \"sfjwhygjdq\": last_card[\"SFJWHYGJDQ\"],\n",
    "        \"xrywz\": last_card[\"XRYWZ\"],\n",
    "        \"jtdz\": last_card[\"JTDZ\"],\n",
    "        \"grjkzk\": last_card[\"GRJKZK\"],\n",
    "        \"jrtw\": last_card[\"JRTW\"],\n",
    "        \"qsjkzk\": last_card[\"QSJKZK\"],\n",
    "        \"jkqk\": last_card[\"JKQK\"],\n",
    "        \"cn\": [\n",
    "            \"本人承诺登记后、到校前不再前往其他地区\"\n",
    "        ],\n",
    "        \"bz\": last_card[\"BZ\"],\n",
    "        \"_ext\": \"{}\",\n",
    "        \"__type\": \"sdo:com.sudytech.work.jlzh.jkxxtb.jkxxcj.TJlzhJkxxtb\"\n",
    "    }\n",
    "}\n",
    "health_card_data"
   ]
  },
  {
   "cell_type": "code",
   "execution_count": 24,
   "metadata": {
    "tags": []
   },
   "outputs": [
    {
     "output_type": "stream",
     "name": "stdout",
     "text": "提交成功，返回数据已输出至 data/submit_temp_output.json\n"
    }
   ],
   "source": [
    "submit(json.dumps(health_card_data,ensure_ascii=False))"
   ]
  },
  {
   "cell_type": "markdown",
   "metadata": {},
   "source": [
    "## 自动获取cookie\n",
    "在微信小程序中填写健康卡抓包获取到登陆网站为\n",
    ">https://wxapp.jluzh.com/cas/?target=https://work.jluzh.com/default/work/jlzh/jkxxtb/jkxxcj.jsp\n",
    "![image](img/charles.jpg)"
   ]
  },
  {
   "cell_type": "code",
   "execution_count": 10,
   "metadata": {},
   "outputs": [],
   "source": [
    "from selenium import webdriver\n",
    "from selenium.webdriver.common.desired_capabilities import DesiredCapabilities\n",
    "from setting import * #账号密码从setting.py中读取"
   ]
  },
  {
   "cell_type": "code",
   "execution_count": 11,
   "metadata": {},
   "outputs": [],
   "source": [
    "def getWeb():\n",
    "    '''配置web浏览器'''\n",
    "    options = webdriver.ChromeOptions()\n",
    "    mobile_emulation = {\"deviceName\": \"Galaxy S5\"}\n",
    "    capabilities = DesiredCapabilities.CHROME\n",
    "    capabilities['loggingPrefs'] = {'browser': 'ALL'}\n",
    "    # options = webdriver.ChromeOptions()\n",
    "    options.add_experimental_option(\"mobileEmulation\", mobile_emulation)\n",
    "    options.add_experimental_option(\"excludeSwitches\", ['enable-automation'])\n",
    "    # 修改windows.navigator.webdriver，防机器人识别机制，selenium自动登陆判别机制desired_capabilities=capabilities,\n",
    "    options.add_experimental_option('excludeSwitches', ['enable-automation'])\n",
    "    # 更换头部\n",
    "    options.add_argument('user-agent=mozilla/5.0 (iphone; cpu iphone os 5_1_1 like mac os x) applewebkit/534.46 (khtml, like gecko) mobile/9b206 micromessenger/5.0')\n",
    "    #禁用图片\n",
    "    #禁止图片和css加载\n",
    "    prefs = {'permissions.default.stylesheet':2}#\"profile.managed_default_content_settings.images\": 2,\n",
    "    options.add_experimental_option(\"prefs\", prefs)\n",
    "    # #添加代理\n",
    "    # ip,port = '127.0.0.1','8080'\n",
    "    # options.add_argument(('--proxy-server=http://{}:{}'.format(ip,port)))#有的博客写的是'--proxy-server=http://'，就目前我的电脑来看的话需要把http://去掉就可以用，他会自己加的\n",
    "    # options.add_argument('-headless')  # 无头参数\n",
    "    # options.headless = True\n",
    "    web = webdriver.Chrome(executable_path=r'E:\\Google\\Chrome\\Application\\chromedriver.exe',options=options)\n",
    "    url = \"https://wxapp.jluzh.com/cas/?target=https://work.jluzh.com/default/work/jlzh/jkxxtb/jkxxcj.jsp\"\n",
    "    web.execute_cdp_cmd(\"Page.addScriptToEvaluateOnNewDocument\", {\n",
    "        \"source\": \"\"\"\n",
    "        Object.defineProperty(navigator, 'webdriver', {\n",
    "        get: () => undefined\n",
    "        })\n",
    "    \"\"\"\n",
    "    })\n",
    "    web.set_page_load_timeout(30)\n",
    "    web.set_script_timeout(30)#这两种设置都进行才有效\n",
    "    web.get(url)\n",
    "    # web.add_cookie({'name': 'JSESSIONID','path': '/','value': cookies})\n",
    "    return web"
   ]
  },
  {
   "cell_type": "code",
   "execution_count": 12,
   "metadata": {},
   "outputs": [],
   "source": [
    "def get_cookie():\n",
    "    web = getWeb()\n",
    "    user = web.find_element_by_id(\"username\")\n",
    "    user.send_keys(\"{}\".format(username))#账号密码从setting.py中读取\n",
    "    passwd = web.find_element_by_id(\"password\")\n",
    "    passwd.send_keys(\"{}\".format(password))#账号密码从setting.py中读取\n",
    "    btn = web.find_element_by_id(\"passbutton\")\n",
    "    btn.click()\n",
    "    cookie = web.get_cookies()[0]['value']\n",
    "    web.quit()\n",
    "    return cookie"
   ]
  },
  {
   "cell_type": "markdown",
   "metadata": {},
   "source": [
    "## 部署服务器运行(未完成)\n",
    "\n",
    "1. 在centos服务器安装chrome浏览器\n",
    "\n",
    "2. 下载chromedriver\n",
    "\n",
    "3. 设定时间自动运行"
   ]
  }
 ]
}