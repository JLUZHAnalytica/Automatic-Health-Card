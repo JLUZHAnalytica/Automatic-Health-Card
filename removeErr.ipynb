{
 "metadata": {
  "language_info": {
   "codemirror_mode": {
    "name": "ipython",
    "version": 3
   },
   "file_extension": ".py",
   "mimetype": "text/x-python",
   "name": "python",
   "nbconvert_exporter": "python",
   "pygments_lexer": "ipython3",
   "version": "3.8.3-final"
  },
  "orig_nbformat": 2,
  "kernelspec": {
   "name": "python3",
   "display_name": "Python 3",
   "language": "python"
  }
 },
 "nbformat": 4,
 "nbformat_minor": 2,
 "cells": [
  {
   "source": [
    "# 更改已提交的健康卡记录\n",
    "\n",
    "## 故事\n",
    "\n",
    "前几天突发奇想健康卡可以提前提交好几天的，于是乎，我在一天内把未来7天的健康卡都提交完了。当时是下午2点，第二天我一看发现不对，辅导员让我们每天中午12点前提交，如果我的提交记录是下午2点的，有点不太完美。于是我又构造了一个早上8点的健康卡提交记录，想覆盖到数据库里面去。可是提交完之后发现没用，才想到这个破系统只会显示最晚一次的健康卡提交记录，相当于我只有提交比下午2点还晚的记录才可以。\n",
    "\n",
    "之后我就没去管它，直到今天辅导员来找我麻烦了...\n",
    "\n",
    "他说看到我每天都有两条提交记录，要让我仅保留一条，免得搞乱他数据。"
   ],
   "cell_type": "markdown",
   "metadata": {}
  },
  {
   "cell_type": "code",
   "execution_count": 1,
   "metadata": {},
   "outputs": [],
   "source": [
    "import requests\n",
    "import json"
   ]
  },
  {
   "cell_type": "code",
   "execution_count": 12,
   "metadata": {},
   "outputs": [],
   "source": [
    "# 写文件的辅助函数\n",
    "def output_to_file(filename, data):\n",
    "    with open(filename,'w') as fd:\n",
    "        fd.write(json.dumps(data,indent=4,ensure_ascii=False))"
   ]
  },
  {
   "source": [
    "## 身份认证"
   ],
   "cell_type": "markdown",
   "metadata": {}
  },
  {
   "cell_type": "code",
   "execution_count": 6,
   "metadata": {},
   "outputs": [],
   "source": [
    "JSESSIONID = \"4567E39DACFBC754AB50C69AD80C0BE0\"\n",
    "headers = {\n",
    "    \"x-requested-with\": \"XMLHttpRequest\",\n",
    "    \"user-agent\": \"Mozilla/5.0 (Macintosh; Intel Mac OS X 10_15_6) AppleWebKit/537.36 (KHTML, like Gecko) ,Chrome/84.0.4147.105 Safari/537.36\",\n",
    "    \"content-type\": \"text/json\",\n",
    "    \"origin\": \"https://work.jluzh.edu.cn\",\n",
    "    \"sec-fetch-site\": \"same-origin\",\n",
    "    \"sec-fetch-mode\": \"cors\",\n",
    "    \"sec-fetch-dest\": \"empty\",\n",
    "    \"referer\": \"https://work.jluzh.edu.cn/default/work/jlzh/jkxxtb/jkxxcj.jsp\",\n",
    "    \"accept-encoding\": \"gzip, deflate, br\",\n",
    "    \"accept-language\": \"zh-CN,zh;q=0.9,en-US;q=0.8,en;q=0.7\",\n",
    "    \"content-length\": \"896\",\n",
    "    \"cookie\": \"JSESSIONID=\" + JSESSIONID\n",
    "}"
   ]
  },
  {
   "source": [
    "## 覆盖记录函数\n",
    "\n",
    "修改自动提交函数，saveOrUpdate 本来是用于提交健康卡的，但是它也有 Update 功能，上网查一下发现只要 entity 里面有 id 字段就可以 update 指定 id 的记录信息。 \n",
    "\n",
    "函数的输入参数分别是：用于覆盖的信息、需要覆盖的记录 ID、用于身份认证的请求头"
   ],
   "cell_type": "markdown",
   "metadata": {}
  },
  {
   "cell_type": "code",
   "execution_count": 14,
   "metadata": {},
   "outputs": [],
   "source": [
    "def cover(coverDataDic, coverId, headers):\n",
    "    coverDataDic[\"entity\"][\"id\"] = coverId\n",
    "    coverData = json.dumps(coverDataDic,ensure_ascii=False)\n",
    "    url = \"https://work.jluzh.edu.cn/default/work/jlzh/jkxxtb/com.sudytech.portalone.base.db.saveOrUpdate.biz.ext\"\n",
    "    r = requests.post(url,headers = headers,data=coverData.encode(\"utf-8\"))\n",
    "    output_to_file(\"data/cover_temp_output.json\",r.json())\n",
    "    print(\"覆盖成功，返回数据已输出至 data/cover_temp_output.json\")"
   ]
  },
  {
   "source": [
    "## 构造用于覆盖的健康卡\n",
    "\n",
    "因为无法删除，所以我的解决办法是把要移除的多余健康卡移动到之前没填过的日期，这样辅导员在查当天的时候就不会看到我每天多条记录了。"
   ],
   "cell_type": "markdown",
   "metadata": {}
  },
  {
   "cell_type": "code",
   "execution_count": 21,
   "metadata": {},
   "outputs": [
    {
     "output_type": "stream",
     "name": "stdout",
     "text": [
      "查询学号 20190105 成功，共计查询到 1 份记录。 仅查询今日=True\n"
     ]
    }
   ],
   "source": [
    "from auto_health import query_record\n",
    "last_card = query_record(20190105, headers)[0]\n",
    "health_card_data = {\n",
    "    \"entity\": {\n",
    "        \"sqrid\": last_card[\"SQRID\"],\n",
    "        \"sqbmid\": last_card[\"SQBMID\"],\n",
    "        \"fdygh\": last_card[\"FDYGH\"],\n",
    "        \"rysf\": last_card[\"RYSF\"],\n",
    "        \"bt\": \"2021-01-05 曾亦凡 健康卡填报\",\n",
    "        \"sqrmc\": last_card[\"SQRMC\"],\n",
    "        \"gh\": last_card[\"GH\"],\n",
    "        \"xb\": last_card[\"XB\"],\n",
    "        \"sqbmmc\": last_card[\"SQBMMC\"],\n",
    "        \"nj\": last_card[\"NJ\"],\n",
    "        \"zymc\": last_card[\"ZYMC\"],\n",
    "        \"bjmc\": last_card[\"BJMC\"],\n",
    "        \"fdymc\": last_card[\"FDYMC\"],\n",
    "        \"ssh\": last_card[\"SSH\"],\n",
    "        \"lxdh\": last_card[\"LXDH\"],\n",
    "        \"tbrq\": \"2021-01-05\",\n",
    "        \"tjsj\": \"2021-01-05 08:30\",\n",
    "        \"xjzdz\": last_card[\"XJZDZ\"],\n",
    "        \"jqqx\": last_card[\"JQQX\"],\n",
    "        \"sfqwhb\": last_card[\"SFQWHB\"],\n",
    "        \"sfjchbjry\": last_card[\"SFJCHBJRY\"],\n",
    "        \"sfjwhy\": last_card[\"SFJWHY\"],\n",
    "        \"sfjwhygjdq\": last_card[\"SFJWHYGJDQ\"],\n",
    "        \"xrywz\": last_card[\"XRYWZ\"],\n",
    "        \"jtdz\": last_card[\"JTDZ\"],\n",
    "        \"grjkzk\": last_card[\"GRJKZK\"],\n",
    "        \"jrtw\": last_card[\"JRTW\"],\n",
    "        \"qsjkzk\": last_card[\"QSJKZK\"],\n",
    "        \"jkqk\": last_card[\"JKQK\"],\n",
    "        \"cn\": [\n",
    "            \"本人承诺登记后、到校前不再前往其他地区\"\n",
    "        ],\n",
    "        \"bz\": last_card[\"BZ\"],\n",
    "        \"_ext\": \"{}\",\n",
    "        \"__type\": \"sdo:com.sudytech.work.jlzh.jkxxtb.jkxxcj.TJlzhJkxxtb\"\n",
    "    }\n",
    "}"
   ]
  },
  {
   "cell_type": "code",
   "execution_count": 22,
   "metadata": {},
   "outputs": [
    {
     "output_type": "stream",
     "name": "stdout",
     "text": [
      "覆盖成功，返回数据已输出至 data/cover_temp_output.json\n"
     ]
    }
   ],
   "source": [
    "cover(health_card_data,2152208,headers)"
   ]
  },
  {
   "cell_type": "code",
   "execution_count": null,
   "metadata": {},
   "outputs": [],
   "source": []
  }
 ]
}